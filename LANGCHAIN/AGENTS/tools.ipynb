{
 "cells": [
  {
   "cell_type": "markdown",
   "id": "b632c9f7",
   "metadata": {},
   "source": [
    "Built-in Tool -DuckDuckGo Search"
   ]
  },
  {
   "cell_type": "code",
   "execution_count": 2,
   "id": "67f29003",
   "metadata": {},
   "outputs": [
    {
     "name": "stdout",
     "output_type": "stream",
     "text": [
      "Cricket News: Trent Boult's devastating spell dismantled Sunrisers Hyderabad's batting lineup, while Rohit Sharma's composed innings guided Mumbai Indians to a comf Amid strained India-Pakistan relations following the Pahalgam attack, Mohammad Amir expressed his desire to play in the IPL, prioritizing it over the PSL if given the opportunity. However, with India suspending ties and the BCCI maintaining its ban on Pakistani players, Amir's IPL dream faces significant hurdles. Check the IPL 2025 Schedule, track the latest IPL 2025 Points Table, and follow the top performers with the Orange Cap and Purple Cap. Catch all the Sports News and Updates on Live Mint. Get the latest news, updates, predictions and scores for IPL 2025, the cash-rich T20 cricket league in India. Find out about the mega-auction, the teams, the players, the fixtures, the standings and the fantasy tips for IPL 2025. Virat Kohli is the all-time leading run getter in the IPL with 8326 runs to his name in 260 matches, and he is followed by Rohit Sharma, Shikhar Dhawan, David Warner, Suresh Raina, MS Dhoni and AB de Villiers. KL Rahul's performance in IPL. Rahul made his IPL debut in the 2013 season, and in the last 12 years, he has played for five teams.\n"
     ]
    }
   ],
   "source": [
    "from langchain_community.tools import DuckDuckGoSearchRun\n",
    "\n",
    "search_tool = DuckDuckGoSearchRun()\n",
    "\n",
    "result = search_tool.invoke(\"ipl news\")\n",
    "\n",
    "print(result)"
   ]
  },
  {
   "cell_type": "markdown",
   "id": "2273b44b",
   "metadata": {},
   "source": [
    "Built-in Tool - Shell Tool"
   ]
  },
  {
   "cell_type": "code",
   "execution_count": 3,
   "id": "12b54d21",
   "metadata": {},
   "outputs": [
    {
     "name": "stdout",
     "output_type": "stream",
     "text": [
      "Executing command:\n",
      " whoami\n",
      "pandhari\n",
      "\n"
     ]
    },
    {
     "name": "stderr",
     "output_type": "stream",
     "text": [
      "/opt/anaconda3/envs/ai_diary/lib/python3.10/site-packages/langchain_community/tools/shell/tool.py:33: UserWarning: The shell tool has no safeguards by default. Use at your own risk.\n",
      "  warnings.warn(\n"
     ]
    }
   ],
   "source": [
    "from langchain_community.tools import ShellTool\n",
    "\n",
    "shell_tool = ShellTool()\n",
    "\n",
    "result = shell_tool.invoke(\"whoami\")\n",
    "\n",
    "print(result)"
   ]
  },
  {
   "cell_type": "markdown",
   "id": "aaa2081b",
   "metadata": {},
   "source": [
    "Custom Tools"
   ]
  },
  {
   "cell_type": "code",
   "execution_count": 5,
   "id": "02feac7c",
   "metadata": {},
   "outputs": [],
   "source": [
    "from langchain_core.tools import tool"
   ]
  },
  {
   "cell_type": "code",
   "execution_count": 6,
   "id": "3923186a",
   "metadata": {},
   "outputs": [],
   "source": [
    "# Step 1 - create a function\n",
    "\n",
    "def multiply(a,b):\n",
    "    \"\"\"Multiply two numbers\"\"\"\n",
    "    return a * b"
   ]
  },
  {
   "cell_type": "code",
   "execution_count": 7,
   "id": "d3d24702",
   "metadata": {},
   "outputs": [],
   "source": [
    "# Step 2 - add type hints\n",
    "\n",
    "def multiply(a:int , b:int) -> int:\n",
    "    \"\"\"Multiply toe numbers\"\"\"\n",
    "    return a * b"
   ]
  },
  {
   "cell_type": "code",
   "execution_count": 8,
   "id": "7b909524",
   "metadata": {},
   "outputs": [],
   "source": [
    "# Step 3 - add tool decorator\n",
    "\n",
    "@tool\n",
    "def multiply(a:int , b:int) -> int:\n",
    "    \"\"\"Multiply two numbers\"\"\"\n",
    "    return a * b"
   ]
  },
  {
   "cell_type": "code",
   "execution_count": 9,
   "id": "f8bc47dd",
   "metadata": {},
   "outputs": [],
   "source": [
    "result = multiply.invoke({\"a\":3 , \"b\":5})"
   ]
  },
  {
   "cell_type": "code",
   "execution_count": 10,
   "id": "d0ef74f3",
   "metadata": {},
   "outputs": [
    {
     "name": "stdout",
     "output_type": "stream",
     "text": [
      "15\n"
     ]
    }
   ],
   "source": [
    "print(result)"
   ]
  },
  {
   "cell_type": "code",
   "execution_count": 11,
   "id": "50353827",
   "metadata": {},
   "outputs": [
    {
     "name": "stdout",
     "output_type": "stream",
     "text": [
      "multiply\n",
      "Multiply two numbers\n",
      "{'a': {'title': 'A', 'type': 'integer'}, 'b': {'title': 'B', 'type': 'integer'}}\n"
     ]
    }
   ],
   "source": [
    "print(multiply.name)\n",
    "print(multiply.description)\n",
    "print(multiply.args)"
   ]
  },
  {
   "cell_type": "code",
   "execution_count": 12,
   "id": "a4d6647d",
   "metadata": {},
   "outputs": [
    {
     "name": "stdout",
     "output_type": "stream",
     "text": [
      "{'description': 'Multiply two numbers', 'properties': {'a': {'title': 'A', 'type': 'integer'}, 'b': {'title': 'B', 'type': 'integer'}}, 'required': ['a', 'b'], 'title': 'multiply', 'type': 'object'}\n"
     ]
    }
   ],
   "source": [
    "print(multiply.args_schema.model_json_schema())"
   ]
  },
  {
   "cell_type": "markdown",
   "id": "335bc46a",
   "metadata": {},
   "source": [
    "Method 2 - Using StructuredTool"
   ]
  },
  {
   "cell_type": "code",
   "execution_count": 13,
   "id": "5e5156d6",
   "metadata": {},
   "outputs": [],
   "source": [
    "from langchain.tools import StructuredTool\n",
    "from pydantic import BaseModel , Field"
   ]
  },
  {
   "cell_type": "code",
   "execution_count": 17,
   "id": "8b500331",
   "metadata": {},
   "outputs": [],
   "source": [
    "class MultiplyInput(BaseModel):\n",
    "    a: int = Field(required = True , description=\"the first number to add\")\n",
    "    b: int = Field(required = True , description=\"the second number to add\")"
   ]
  },
  {
   "cell_type": "code",
   "execution_count": 18,
   "id": "13c4427f",
   "metadata": {},
   "outputs": [],
   "source": [
    "def multiply_func(a:int , b:int) -> int:\n",
    "    return a * b"
   ]
  },
  {
   "cell_type": "code",
   "execution_count": 19,
   "id": "3394d0f5",
   "metadata": {},
   "outputs": [],
   "source": [
    "multiply_tool = StructuredTool.from_function(\n",
    "    func=multiply_func , \n",
    "    name = \"multiply\" , \n",
    "    description=\"Multiply two numbers\" , \n",
    "    args_schema=MultiplyInput\n",
    ")"
   ]
  },
  {
   "cell_type": "code",
   "execution_count": 20,
   "id": "1ebe0647",
   "metadata": {},
   "outputs": [
    {
     "name": "stdout",
     "output_type": "stream",
     "text": [
      "9\n",
      "multiply\n",
      "Multiply two numbers\n",
      "{'a': {'description': 'the first number to add', 'required': True, 'title': 'A', 'type': 'integer'}, 'b': {'description': 'the second number to add', 'required': True, 'title': 'B', 'type': 'integer'}}\n"
     ]
    }
   ],
   "source": [
    "result = multiply_tool.invoke({'a':3 , 'b':3})\n",
    "\n",
    "print(result)\n",
    "print(multiply_tool.name)\n",
    "print(multiply_tool.description)\n",
    "print(multiply_tool.args)"
   ]
  },
  {
   "cell_type": "markdown",
   "id": "7309c569",
   "metadata": {},
   "source": [
    "Method 3 - Using BaseTool Class"
   ]
  },
  {
   "cell_type": "code",
   "execution_count": 21,
   "id": "64479f9b",
   "metadata": {},
   "outputs": [],
   "source": [
    "from langchain.tools import BaseTool\n",
    "from typing import Type"
   ]
  },
  {
   "cell_type": "code",
   "execution_count": 22,
   "id": "013ca7c2",
   "metadata": {},
   "outputs": [],
   "source": [
    "# arg schema using pydantic\n",
    "\n",
    "class MultiplyInput(BaseModel):\n",
    "    a: int = Field(required = True , description=\"the first number to add\")\n",
    "    b: int = Field(required = True , description=\"the second number to add\")"
   ]
  },
  {
   "cell_type": "code",
   "execution_count": 23,
   "id": "dc765646",
   "metadata": {},
   "outputs": [],
   "source": [
    "class MultiplyTool(BaseTool):\n",
    "    name : str = \"multiply\"\n",
    "    description:str = \"Multiply two numbers\"\n",
    "\n",
    "    args_schema : Type[BaseModel] = MultiplyInput\n",
    "\n",
    "    def _run(self , a:int , b:int) -> int:\n",
    "        return a * b"
   ]
  },
  {
   "cell_type": "code",
   "execution_count": 24,
   "id": "247e0d51",
   "metadata": {},
   "outputs": [],
   "source": [
    "multiply_tool = MultiplyTool()\n"
   ]
  },
  {
   "cell_type": "code",
   "execution_count": 25,
   "id": "0ee0b433",
   "metadata": {},
   "outputs": [
    {
     "name": "stdout",
     "output_type": "stream",
     "text": [
      "12\n",
      "multiply\n",
      "Multiply two numbers\n"
     ]
    }
   ],
   "source": [
    "result = multiply_tool.invoke({'a':3 , 'b':4})\n",
    "\n",
    "print(result)\n",
    "print(multiply_tool.name)\n",
    "print(multiply_tool.description)"
   ]
  },
  {
   "cell_type": "markdown",
   "id": "a71ead83",
   "metadata": {},
   "source": [
    "Toolkit"
   ]
  },
  {
   "cell_type": "code",
   "execution_count": 26,
   "id": "2d89885a",
   "metadata": {},
   "outputs": [],
   "source": [
    "from langchain_core.tools import tool\n",
    "\n",
    "# Custom tools\n",
    "@tool\n",
    "def add(a: int, b: int) -> int:\n",
    "    \"\"\"Add two numbers\"\"\"\n",
    "    return a + b\n",
    "\n",
    "@tool\n",
    "def multiply(a: int, b: int) -> int:\n",
    "    \"\"\"Multiply two numbers\"\"\"\n",
    "    return a * b\n"
   ]
  },
  {
   "cell_type": "code",
   "execution_count": 27,
   "id": "34c53784",
   "metadata": {},
   "outputs": [],
   "source": [
    "class MathToolkit:\n",
    "    def get_tools(self):\n",
    "        return [add, multiply]\n"
   ]
  },
  {
   "cell_type": "code",
   "execution_count": 28,
   "id": "eaa433f4",
   "metadata": {},
   "outputs": [
    {
     "name": "stdout",
     "output_type": "stream",
     "text": [
      "add => Add two numbers\n",
      "multiply => Multiply two numbers\n"
     ]
    }
   ],
   "source": [
    "toolkit = MathToolkit()\n",
    "tools = toolkit.get_tools()\n",
    "\n",
    "for tool in tools:\n",
    "    print(tool.name, \"=>\", tool.description)\n"
   ]
  }
 ],
 "metadata": {
  "kernelspec": {
   "display_name": "ai_diary",
   "language": "python",
   "name": "python3"
  },
  "language_info": {
   "codemirror_mode": {
    "name": "ipython",
    "version": 3
   },
   "file_extension": ".py",
   "mimetype": "text/x-python",
   "name": "python",
   "nbconvert_exporter": "python",
   "pygments_lexer": "ipython3",
   "version": "3.10.16"
  }
 },
 "nbformat": 4,
 "nbformat_minor": 5
}
