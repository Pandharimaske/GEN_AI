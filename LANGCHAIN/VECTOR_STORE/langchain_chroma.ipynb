{
 "cells": [
  {
   "cell_type": "code",
   "execution_count": 3,
   "id": "6f9c7317",
   "metadata": {},
   "outputs": [],
   "source": [
    "from langchain_openai import OpenAIEmbeddings\n",
    "from langchain_chroma import Chroma"
   ]
  },
  {
   "cell_type": "code",
   "execution_count": 8,
   "id": "27e80eaf",
   "metadata": {},
   "outputs": [
    {
     "name": "stderr",
     "output_type": "stream",
     "text": [
      "/var/folders/42/94lj0cp519ncj7_m79j3_h3m0000gn/T/ipykernel_4581/1822540165.py:3: LangChainDeprecationWarning: The class `HuggingFaceEmbeddings` was deprecated in LangChain 0.2.2 and will be removed in 1.0. An updated version of the class exists in the :class:`~langchain-huggingface package and should be used instead. To use it run `pip install -U :class:`~langchain-huggingface` and import as `from :class:`~langchain_huggingface import HuggingFaceEmbeddings``.\n",
      "  embeddings = HuggingFaceEmbeddings(model_name=\"sentence-transformers/all-MiniLM-L6-v2\")\n",
      "/opt/anaconda3/envs/ollama-rag/lib/python3.11/site-packages/tqdm/auto.py:21: TqdmWarning: IProgress not found. Please update jupyter and ipywidgets. See https://ipywidgets.readthedocs.io/en/stable/user_install.html\n",
      "  from .autonotebook import tqdm as notebook_tqdm\n"
     ]
    }
   ],
   "source": [
    "from langchain.embeddings import HuggingFaceEmbeddings\n",
    "\n",
    "embeddings = HuggingFaceEmbeddings(model_name=\"sentence-transformers/all-MiniLM-L6-v2\")"
   ]
  },
  {
   "cell_type": "code",
   "execution_count": 4,
   "id": "459c7b43",
   "metadata": {},
   "outputs": [],
   "source": [
    "from langchain.schema import Document\n",
    "\n",
    "# create Langchain document for IPL players\n",
    "\n",
    "doc1 = Document(\n",
    "        page_content=\"Virat Kohli is one of the most successful and consistent batsmen in IPL history. Known for his aggressive batting style and fitness, he has led the Royal Challengers Bangalore in multiple seasons.\",\n",
    "        metadata={\"team\": \"Royal Challengers Bangalore\"}\n",
    "    )\n",
    "doc2 = Document(\n",
    "        page_content=\"Rohit Sharma is the most successful captain in IPL history, leading Mumbai Indians to five titles. He's known for his calm demeanor and ability to play big innings under pressure.\",\n",
    "        metadata={\"team\": \"Mumbai Indians\"}\n",
    "    )\n",
    "doc3 = Document(\n",
    "        page_content=\"MS Dhoni, famously known as Captain Cool, has led Chennai Super Kings to multiple IPL titles. His finishing skills, wicketkeeping, and leadership are legendary.\",\n",
    "        metadata={\"team\": \"Chennai Super Kings\"}\n",
    "    )\n",
    "doc4 = Document(\n",
    "        page_content=\"Jasprit Bumrah is considered one of the best fast bowlers in T20 cricket. Playing for Mumbai Indians, he is known for his yorkers and death-over expertise.\",\n",
    "        metadata={\"team\": \"Mumbai Indians\"}\n",
    "    )\n",
    "doc5 = Document(\n",
    "        page_content=\"Ravindra Jadeja is a dynamic all-rounder who contributes with both bat and ball. Representing Chennai Super Kings, his quick fielding and match-winning performances make him a key player.\",\n",
    "        metadata={\"team\": \"Chennai Super Kings\"}\n",
    "    )"
   ]
  },
  {
   "cell_type": "code",
   "execution_count": 5,
   "id": "b0ee6e99",
   "metadata": {},
   "outputs": [],
   "source": [
    "docs = [doc1 , doc2 , doc3 , doc4 , doc5]"
   ]
  },
  {
   "cell_type": "code",
   "execution_count": 9,
   "id": "c0a5e77c",
   "metadata": {},
   "outputs": [],
   "source": [
    "vector_store = Chroma(\n",
    "    embedding_function=embeddings , \n",
    "    persist_directory='chroma_db' , \n",
    "    collection_name='sample'\n",
    ")"
   ]
  },
  {
   "cell_type": "code",
   "execution_count": 10,
   "id": "80ffb99b",
   "metadata": {},
   "outputs": [
    {
     "data": {
      "text/plain": [
       "['8bcd19cd-ed5d-4b3f-9664-46b98c11e46f',\n",
       " '5dc3861a-a289-4d34-ba46-754d0b582604',\n",
       " 'cdbde09e-d86a-4a18-a545-208c8e99503f',\n",
       " 'e856fdbb-97f5-49ec-a5aa-7136f30c273a',\n",
       " '4ab49171-07ab-4dd4-87c1-9287b7c55f7c']"
      ]
     },
     "execution_count": 10,
     "metadata": {},
     "output_type": "execute_result"
    }
   ],
   "source": [
    "# add documents\n",
    "vector_store.add_documents(docs)"
   ]
  },
  {
   "cell_type": "code",
   "execution_count": 12,
   "id": "4029a759",
   "metadata": {},
   "outputs": [
    {
     "data": {
      "text/plain": [
       "{'ids': ['8bcd19cd-ed5d-4b3f-9664-46b98c11e46f',\n",
       "  '5dc3861a-a289-4d34-ba46-754d0b582604',\n",
       "  'cdbde09e-d86a-4a18-a545-208c8e99503f',\n",
       "  'e856fdbb-97f5-49ec-a5aa-7136f30c273a',\n",
       "  '4ab49171-07ab-4dd4-87c1-9287b7c55f7c'],\n",
       " 'embeddings': array([[ 0.00994719,  0.06914335, -0.05147116, ..., -0.03543337,\n",
       "          0.01284809,  0.01248283],\n",
       "        [ 0.00127741,  0.03129852, -0.02375373, ..., -0.00518364,\n",
       "         -0.03280607,  0.02737714],\n",
       "        [-0.10265923,  0.02650806,  0.02271505, ..., -0.0335975 ,\n",
       "         -0.07984944, -0.01507706],\n",
       "        [ 0.02123401, -0.02468547, -0.0449437 , ..., -0.10995813,\n",
       "          0.00572558,  0.09915373],\n",
       "        [ 0.01873972,  0.04382848, -0.0430425 , ..., -0.07801614,\n",
       "         -0.07840677, -0.00304191]]),\n",
       " 'documents': ['Virat Kohli is one of the most successful and consistent batsmen in IPL history. Known for his aggressive batting style and fitness, he has led the Royal Challengers Bangalore in multiple seasons.',\n",
       "  \"Rohit Sharma is the most successful captain in IPL history, leading Mumbai Indians to five titles. He's known for his calm demeanor and ability to play big innings under pressure.\",\n",
       "  'MS Dhoni, famously known as Captain Cool, has led Chennai Super Kings to multiple IPL titles. His finishing skills, wicketkeeping, and leadership are legendary.',\n",
       "  'Jasprit Bumrah is considered one of the best fast bowlers in T20 cricket. Playing for Mumbai Indians, he is known for his yorkers and death-over expertise.',\n",
       "  'Ravindra Jadeja is a dynamic all-rounder who contributes with both bat and ball. Representing Chennai Super Kings, his quick fielding and match-winning performances make him a key player.'],\n",
       " 'uris': None,\n",
       " 'data': None,\n",
       " 'metadatas': [{'team': 'Royal Challengers Bangalore'},\n",
       "  {'team': 'Mumbai Indians'},\n",
       "  {'team': 'Chennai Super Kings'},\n",
       "  {'team': 'Mumbai Indians'},\n",
       "  {'team': 'Chennai Super Kings'}],\n",
       " 'included': [<IncludeEnum.embeddings: 'embeddings'>,\n",
       "  <IncludeEnum.documents: 'documents'>,\n",
       "  <IncludeEnum.metadatas: 'metadatas'>]}"
      ]
     },
     "execution_count": 12,
     "metadata": {},
     "output_type": "execute_result"
    }
   ],
   "source": [
    "# view documents\n",
    "vector_store.get(include=['embeddings' , 'documents' , 'metadatas'])"
   ]
  },
  {
   "cell_type": "code",
   "execution_count": 16,
   "id": "0e7b2a9c",
   "metadata": {},
   "outputs": [
    {
     "data": {
      "text/plain": [
       "[Document(id='e856fdbb-97f5-49ec-a5aa-7136f30c273a', metadata={'team': 'Mumbai Indians'}, page_content='Jasprit Bumrah is considered one of the best fast bowlers in T20 cricket. Playing for Mumbai Indians, he is known for his yorkers and death-over expertise.'),\n",
       " Document(id='5dc3861a-a289-4d34-ba46-754d0b582604', metadata={'team': 'Mumbai Indians'}, page_content=\"Rohit Sharma is the most successful captain in IPL history, leading Mumbai Indians to five titles. He's known for his calm demeanor and ability to play big innings under pressure.\")]"
      ]
     },
     "execution_count": 16,
     "metadata": {},
     "output_type": "execute_result"
    }
   ],
   "source": [
    "# search documents\n",
    "vector_store.similarity_search(\n",
    "    query='Who is among these a bowler?' , \n",
    "    k = 2\n",
    ")"
   ]
  },
  {
   "cell_type": "code",
   "execution_count": 17,
   "id": "d781f3d1",
   "metadata": {},
   "outputs": [
    {
     "data": {
      "text/plain": [
       "[(Document(id='e856fdbb-97f5-49ec-a5aa-7136f30c273a', metadata={'team': 'Mumbai Indians'}, page_content='Jasprit Bumrah is considered one of the best fast bowlers in T20 cricket. Playing for Mumbai Indians, he is known for his yorkers and death-over expertise.'),\n",
       "  0.9693600817970106),\n",
       " (Document(id='5dc3861a-a289-4d34-ba46-754d0b582604', metadata={'team': 'Mumbai Indians'}, page_content=\"Rohit Sharma is the most successful captain in IPL history, leading Mumbai Indians to five titles. He's known for his calm demeanor and ability to play big innings under pressure.\"),\n",
       "  1.1493451444109168)]"
      ]
     },
     "execution_count": 17,
     "metadata": {},
     "output_type": "execute_result"
    }
   ],
   "source": [
    "# search with similarity score\n",
    "vector_store.similarity_search_with_score(\n",
    "    query='Who among these are a bowler?' , \n",
    "    k = 2\n",
    ")"
   ]
  },
  {
   "cell_type": "code",
   "execution_count": 18,
   "id": "5da542b8",
   "metadata": {},
   "outputs": [
    {
     "data": {
      "text/plain": [
       "[(Document(id='cdbde09e-d86a-4a18-a545-208c8e99503f', metadata={'team': 'Chennai Super Kings'}, page_content='MS Dhoni, famously known as Captain Cool, has led Chennai Super Kings to multiple IPL titles. His finishing skills, wicketkeeping, and leadership are legendary.'),\n",
       "  1.843600615215233),\n",
       " (Document(id='4ab49171-07ab-4dd4-87c1-9287b7c55f7c', metadata={'team': 'Chennai Super Kings'}, page_content='Ravindra Jadeja is a dynamic all-rounder who contributes with both bat and ball. Representing Chennai Super Kings, his quick fielding and match-winning performances make him a key player.'),\n",
       "  1.8909372836429765)]"
      ]
     },
     "execution_count": 18,
     "metadata": {},
     "output_type": "execute_result"
    }
   ],
   "source": [
    "# meta-data filtering\n",
    "vector_store.similarity_search_with_score(\n",
    "    query=\"\" , \n",
    "    filter={\"team\":\"Chennai Super Kings\"}\n",
    ")"
   ]
  },
  {
   "cell_type": "code",
   "execution_count": 19,
   "id": "aaa5f050",
   "metadata": {},
   "outputs": [
    {
     "name": "stderr",
     "output_type": "stream",
     "text": [
      "Update of nonexisting embedding ID: 09a39dc6-3ba6-4ea7-927e-fdda591da5e4\n",
      "Update of nonexisting embedding ID: 09a39dc6-3ba6-4ea7-927e-fdda591da5e4\n"
     ]
    }
   ],
   "source": [
    "# update documents\n",
    "updated_doc1 = Document(\n",
    "    page_content=\"Virat Kohli, the former captain of Royal Challengers Bangalore (RCB), is renowned for his aggressive leadership and consistent batting performances. He holds the record for the most runs in IPL history, including multiple centuries in a single season. Despite RCB not winning an IPL title under his captaincy, Kohli's passion and fitness set a benchmark for the league. His ability to chase targets and anchor innings has made him one of the most dependable players in T20 cricket.\",\n",
    "    metadata={\"team\": \"Royal Challengers Bangalore\"}\n",
    ")\n",
    "\n",
    "vector_store.update_document(document_id='09a39dc6-3ba6-4ea7-927e-fdda591da5e4', document=updated_doc1)"
   ]
  },
  {
   "cell_type": "code",
   "execution_count": 20,
   "id": "9aea6daf",
   "metadata": {},
   "outputs": [
    {
     "data": {
      "text/plain": [
       "{'ids': ['8bcd19cd-ed5d-4b3f-9664-46b98c11e46f',\n",
       "  '5dc3861a-a289-4d34-ba46-754d0b582604',\n",
       "  'cdbde09e-d86a-4a18-a545-208c8e99503f',\n",
       "  'e856fdbb-97f5-49ec-a5aa-7136f30c273a',\n",
       "  '4ab49171-07ab-4dd4-87c1-9287b7c55f7c'],\n",
       " 'embeddings': array([[ 0.00994719,  0.06914335, -0.05147116, ..., -0.03543337,\n",
       "          0.01284809,  0.01248283],\n",
       "        [ 0.00127741,  0.03129852, -0.02375373, ..., -0.00518364,\n",
       "         -0.03280607,  0.02737714],\n",
       "        [-0.10265923,  0.02650806,  0.02271505, ..., -0.0335975 ,\n",
       "         -0.07984944, -0.01507706],\n",
       "        [ 0.02123401, -0.02468547, -0.0449437 , ..., -0.10995813,\n",
       "          0.00572558,  0.09915373],\n",
       "        [ 0.01873972,  0.04382848, -0.0430425 , ..., -0.07801614,\n",
       "         -0.07840677, -0.00304191]]),\n",
       " 'documents': ['Virat Kohli is one of the most successful and consistent batsmen in IPL history. Known for his aggressive batting style and fitness, he has led the Royal Challengers Bangalore in multiple seasons.',\n",
       "  \"Rohit Sharma is the most successful captain in IPL history, leading Mumbai Indians to five titles. He's known for his calm demeanor and ability to play big innings under pressure.\",\n",
       "  'MS Dhoni, famously known as Captain Cool, has led Chennai Super Kings to multiple IPL titles. His finishing skills, wicketkeeping, and leadership are legendary.',\n",
       "  'Jasprit Bumrah is considered one of the best fast bowlers in T20 cricket. Playing for Mumbai Indians, he is known for his yorkers and death-over expertise.',\n",
       "  'Ravindra Jadeja is a dynamic all-rounder who contributes with both bat and ball. Representing Chennai Super Kings, his quick fielding and match-winning performances make him a key player.'],\n",
       " 'uris': None,\n",
       " 'data': None,\n",
       " 'metadatas': [{'team': 'Royal Challengers Bangalore'},\n",
       "  {'team': 'Mumbai Indians'},\n",
       "  {'team': 'Chennai Super Kings'},\n",
       "  {'team': 'Mumbai Indians'},\n",
       "  {'team': 'Chennai Super Kings'}],\n",
       " 'included': [<IncludeEnum.embeddings: 'embeddings'>,\n",
       "  <IncludeEnum.documents: 'documents'>,\n",
       "  <IncludeEnum.metadatas: 'metadatas'>]}"
      ]
     },
     "execution_count": 20,
     "metadata": {},
     "output_type": "execute_result"
    }
   ],
   "source": [
    "# view documents\n",
    "vector_store.get(include=['embeddings','documents', 'metadatas'])"
   ]
  },
  {
   "cell_type": "code",
   "execution_count": 21,
   "id": "79a26d71",
   "metadata": {},
   "outputs": [
    {
     "name": "stderr",
     "output_type": "stream",
     "text": [
      "Delete of nonexisting embedding ID: 09a39dc6-3ba6-4ea7-927e-fdda591da5e4\n",
      "Delete of nonexisting embedding ID: 09a39dc6-3ba6-4ea7-927e-fdda591da5e4\n"
     ]
    }
   ],
   "source": [
    "# delete document\n",
    "vector_store.delete(ids=['09a39dc6-3ba6-4ea7-927e-fdda591da5e4'])"
   ]
  },
  {
   "cell_type": "code",
   "execution_count": 22,
   "id": "c4a127cf",
   "metadata": {},
   "outputs": [
    {
     "data": {
      "text/plain": [
       "{'ids': ['8bcd19cd-ed5d-4b3f-9664-46b98c11e46f',\n",
       "  '5dc3861a-a289-4d34-ba46-754d0b582604',\n",
       "  'cdbde09e-d86a-4a18-a545-208c8e99503f',\n",
       "  'e856fdbb-97f5-49ec-a5aa-7136f30c273a',\n",
       "  '4ab49171-07ab-4dd4-87c1-9287b7c55f7c'],\n",
       " 'embeddings': array([[ 0.00994719,  0.06914335, -0.05147116, ..., -0.03543337,\n",
       "          0.01284809,  0.01248283],\n",
       "        [ 0.00127741,  0.03129852, -0.02375373, ..., -0.00518364,\n",
       "         -0.03280607,  0.02737714],\n",
       "        [-0.10265923,  0.02650806,  0.02271505, ..., -0.0335975 ,\n",
       "         -0.07984944, -0.01507706],\n",
       "        [ 0.02123401, -0.02468547, -0.0449437 , ..., -0.10995813,\n",
       "          0.00572558,  0.09915373],\n",
       "        [ 0.01873972,  0.04382848, -0.0430425 , ..., -0.07801614,\n",
       "         -0.07840677, -0.00304191]]),\n",
       " 'documents': ['Virat Kohli is one of the most successful and consistent batsmen in IPL history. Known for his aggressive batting style and fitness, he has led the Royal Challengers Bangalore in multiple seasons.',\n",
       "  \"Rohit Sharma is the most successful captain in IPL history, leading Mumbai Indians to five titles. He's known for his calm demeanor and ability to play big innings under pressure.\",\n",
       "  'MS Dhoni, famously known as Captain Cool, has led Chennai Super Kings to multiple IPL titles. His finishing skills, wicketkeeping, and leadership are legendary.',\n",
       "  'Jasprit Bumrah is considered one of the best fast bowlers in T20 cricket. Playing for Mumbai Indians, he is known for his yorkers and death-over expertise.',\n",
       "  'Ravindra Jadeja is a dynamic all-rounder who contributes with both bat and ball. Representing Chennai Super Kings, his quick fielding and match-winning performances make him a key player.'],\n",
       " 'uris': None,\n",
       " 'data': None,\n",
       " 'metadatas': [{'team': 'Royal Challengers Bangalore'},\n",
       "  {'team': 'Mumbai Indians'},\n",
       "  {'team': 'Chennai Super Kings'},\n",
       "  {'team': 'Mumbai Indians'},\n",
       "  {'team': 'Chennai Super Kings'}],\n",
       " 'included': [<IncludeEnum.embeddings: 'embeddings'>,\n",
       "  <IncludeEnum.documents: 'documents'>,\n",
       "  <IncludeEnum.metadatas: 'metadatas'>]}"
      ]
     },
     "execution_count": 22,
     "metadata": {},
     "output_type": "execute_result"
    }
   ],
   "source": [
    "# view documents\n",
    "vector_store.get(include=['embeddings','documents', 'metadatas'])"
   ]
  },
  {
   "cell_type": "code",
   "execution_count": null,
   "id": "248aa402",
   "metadata": {},
   "outputs": [],
   "source": []
  }
 ],
 "metadata": {
  "kernelspec": {
   "display_name": "ollama-rag",
   "language": "python",
   "name": "python3"
  },
  "language_info": {
   "codemirror_mode": {
    "name": "ipython",
    "version": 3
   },
   "file_extension": ".py",
   "mimetype": "text/x-python",
   "name": "python",
   "nbconvert_exporter": "python",
   "pygments_lexer": "ipython3",
   "version": "3.11.11"
  }
 },
 "nbformat": 4,
 "nbformat_minor": 5
}
