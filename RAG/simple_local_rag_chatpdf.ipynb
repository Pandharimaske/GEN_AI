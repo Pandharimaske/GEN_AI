{
 "cells": [
  {
   "cell_type": "markdown",
   "metadata": {},
   "source": [
    " **Create and Run a local RAG pipeline from scratch**"
   ]
  },
  {
   "cell_type": "markdown",
   "metadata": {},
   "source": [
    "## 1. Document/text preprocessing and embedding creation"
   ]
  },
  {
   "cell_type": "code",
   "execution_count": 3,
   "metadata": {},
   "outputs": [
    {
     "name": "stdout",
     "output_type": "stream",
     "text": [
      "File human-nutrition-text.pdf exists.\n"
     ]
    }
   ],
   "source": [
    "import os\n",
    "import requests\n",
    "\n",
    "# Get PDF document path\n",
    "pdf_path = \"human-nutrition-text.pdf\"\n",
    "\n",
    "# Download\n",
    "if not os.path.exists(pdf_path):\n",
    "    print(f\"[INFO] File doesn't exist, downloading...\")\n",
    "\n",
    "    # Enter the URL of the PDF\n",
    "    url = \"https://pressbooks.oer.hawaii.edu/humannutrition2/open/download?type=pdf\"\n",
    "\n",
    "    # THe Local filename to save the downloaded file\n",
    "    filename = pdf_path\n",
    "\n",
    "    # Send a GET request to the URL\n",
    "    responce = requests.get(url)\n",
    "\n",
    "    # Check if the request was successfull\n",
    "    if responce.status_code == 200:\n",
    "        # Open the file and save it\n",
    "        with open(filename , 'wb') as file:\n",
    "            file.write(responce.content)\n",
    "        print(f\"[INFO] The file has been download and saved as {filename}\")\n",
    "    else:\n",
    "        print(f\"[INFO] Falied to download the file . Status code {responce.status_code}\")\n",
    "\n",
    "else:\n",
    "    print(f\"File {pdf_path} exists.\")\n"
   ]
  },
  {
   "cell_type": "code",
   "execution_count": 6,
   "metadata": {},
   "outputs": [
    {
     "name": "stderr",
     "output_type": "stream",
     "text": [
      "1208it [00:01, 869.27it/s]\n"
     ]
    },
    {
     "data": {
      "text/plain": [
       "[{'page_number': -41,\n",
       "  'page_char_count': 29,\n",
       "  'page_word_count': 4,\n",
       "  'page_sentence_count_raw': 1,\n",
       "  'page_token_count': 7.25,\n",
       "  'text': 'Human Nutrition: 2020 Edition'},\n",
       " {'page_number': -40,\n",
       "  'page_char_count': 0,\n",
       "  'page_word_count': 1,\n",
       "  'page_sentence_count_raw': 1,\n",
       "  'page_token_count': 0.0,\n",
       "  'text': ''}]"
      ]
     },
     "execution_count": 6,
     "metadata": {},
     "output_type": "execute_result"
    }
   ],
   "source": [
    "import fitz\n",
    "from tqdm import tqdm\n",
    "\n",
    "\n",
    "def text_formaatter(text: str) -> str:\n",
    "    \"\"\" Performs minor formatting on text \"\"\"\n",
    "    cleaned_text = text.replace(\"\\n\" , \" \").strip()\n",
    "\n",
    "    # Pottentially more text formating functions can go here\n",
    "    return cleaned_text\n",
    "\n",
    "def open_and_read_pdf(pdf_path:str) -> list[dict]:\n",
    "    doc = fitz.open(pdf_path)\n",
    "    pages_and_text = []\n",
    "    for page_number , page in tqdm(enumerate(doc)):\n",
    "        text = page.get_text()\n",
    "        text = text_formaatter(text=text)\n",
    "        pages_and_text.append({\"page_number\" : page_number - 41 , \n",
    "                               \"page_char_count\": len(text) , \n",
    "                               \"page_word_count\": len(text.split(\" \")) , \n",
    "                               \"page_sentence_count_raw\": len(text.split(\". \")) , \n",
    "                               \"page_token_count\": len(text) / 4  , # 1 token = 4 character.\n",
    "                               \"text\": text})\n",
    "    \n",
    "    return pages_and_text\n",
    "\n",
    "pages_and_text = open_and_read_pdf(pdf_path=pdf_path)\n",
    "pages_and_text[:2]\n"
   ]
  },
  {
   "cell_type": "code",
   "execution_count": 7,
   "metadata": {},
   "outputs": [
    {
     "data": {
      "text/plain": [
       "[{'page_number': -6,\n",
       "  'page_char_count': 544,\n",
       "  'page_word_count': 96,\n",
       "  'page_sentence_count_raw': 4,\n",
       "  'page_token_count': 136.0,\n",
       "  'text': 'Christina Gar Lai Young is currently an undergraduate student  in Dietetics at the College of Tropical Agriculture and Human  Resources at the University of Hawaiʻi at Mānoa. She plans to  become a Registered Dietitian after obtaining her undergraduate  degree and completing her supervised practice in dietetics.  Staff  Ty Lim  Ty Lim is an instructional designer who received his MA in  Education and BA in Anthropology.\\xa0 He is excited about helping to  create open educational resources for FSHN and CTAHR.  xxxvi  |  About the Contributors'},\n",
       " {'page_number': 1029,\n",
       "  'page_char_count': 749,\n",
       "  'page_word_count': 121,\n",
       "  'page_sentence_count_raw': 4,\n",
       "  'page_token_count': 187.25,\n",
       "  'text': 'Learning Activities  Technology Note: The second edition of the Human  Nutrition Open Educational Resource (OER) textbook  features interactive learning activities.\\xa0 These activities are  available in the web-based textbook and not available in the  downloadable versions (EPUB, Digital PDF, Print_PDF, or  Open Document).  Learning activities may be used across various mobile  devices, however, for the best user experience it is strongly  recommended that users complete these activities using a  desktop or laptop computer and in Google Chrome.  \\xa0 An interactive or media element has been  excluded from this version of the text. You can  view it online here:  http://pressbooks.oer.hawaii.edu/ humannutrition2/?p=538  \\xa0 Food Processing  |  1029'},\n",
       " {'page_number': 1028,\n",
       "  'page_char_count': 1729,\n",
       "  'page_word_count': 289,\n",
       "  'page_sentence_count_raw': 16,\n",
       "  'page_token_count': 432.25,\n",
       "  'text': 'The Pros and Cons of Food Additives  The FDA works to protect the public from potentially dangerous  additives. Passed in 1958, the Food Additives Amendment states that  a manufacturer is responsible for demonstrating the safety of an  additive before it can be approved. The Delaney Clause that was  added to this legislation prohibits the approval of any additive found  to cause cancer in animals or humans. However, most additives  are considered to be “generally recognized as safe,” a status that is  determined by the FDA and referred to as GRAS.  Food additives are typically included in the processing stage to  improve the quality and consistency of a product. Many additives  also make items more “shelf stable,” meaning they will last a lot  longer on store shelves and can generate more profit for store  owners. Additives can also help to prevent spoilage that results from  changes in temperature, damage during distribution, and other  adverse conditions. In addition, food additives can protect  consumers from exposure to rancid products and foodborne  illnesses.  Food  additives  aren’t  always  beneficial,  however.  Some  substances have been associated with certain diseases if consumed  in large amounts. For example, the FDA estimates that sulfites can  cause allergic reactions in 1 percent of the general population and  in 5 percent of asthmatics. Similarly, the additive monosodium  glutamate, which is commonly known as MSG, may cause  headaches, nausea, weakness, difficulty breathing, rapid heartbeat,  and chest pain in some individuals.3  3.\\xa0The Issues: Additives. Sustainable Table.  http://www.sustainabletable.org/issues/ additives/#fn14. Accessed October 10, 2011.  1028  |  Food Processing'},\n",
       " {'page_number': 1008,\n",
       "  'page_char_count': 1709,\n",
       "  'page_word_count': 288,\n",
       "  'page_sentence_count_raw': 16,\n",
       "  'page_token_count': 427.25,\n",
       "  'text': 'should be fine for fruits and vegetables that appear on the low- residue list.  Pollutants  Pollutants are another kind of chemical contaminant that can make  food harmful. Chemical runoff from factories can pollute food  products and drinking water. For example, dioxins are chemical  compounds created in industrial processes, such as manufacturing  and bleaching pulp and paper. Fish that swim in dioxin-polluted  waters can contain significant amounts of this pollutant, which  causes cancer. When metals contaminate food, it can result in  serious and even life-threatening health problems. A common metal  contaminant is lead, which can be present in drinking water, soil,  and air. Lead exposure most often affects children, who can suffer  from physical and mental developmental delays as a result.  Methyl mercury occurs naturally in the environment and is also  produced by human activities. Fish can absorb it, and the predatory  fish that consume smaller, contaminated fish can have very high  levels. This highly toxic chemical can cause mercury poisoning,  which leads to developmental problems in children, as well as  autoimmune effects. A condition called Minamata disease was  identified in 1956 in Japan. It was named for the town of Minamata,  which was the site of an environmental disaster when methyl  mercury was released into the surface water near a factory. Many  residents experienced neurological issues, including numbness in  hands and feet, muscle weakness, a narrowing of the field of vision,  damage to hearing and speech, and ataxia, which is a lack of muscle  coordination.8  8.\\xa0Minamata Disease: The History and Measures. (2002).  1008  |  The Causes of Food Contamination'}]"
      ]
     },
     "execution_count": 7,
     "metadata": {},
     "output_type": "execute_result"
    }
   ],
   "source": [
    "import random\n",
    "random.sample(pages_and_text , k = 4)"
   ]
  },
  {
   "cell_type": "code",
   "execution_count": null,
   "metadata": {},
   "outputs": [],
   "source": []
  }
 ],
 "metadata": {
  "kernelspec": {
   "display_name": "NLP",
   "language": "python",
   "name": "python3"
  },
  "language_info": {
   "codemirror_mode": {
    "name": "ipython",
    "version": 3
   },
   "file_extension": ".py",
   "mimetype": "text/x-python",
   "name": "python",
   "nbconvert_exporter": "python",
   "pygments_lexer": "ipython3",
   "version": "3.10.16"
  }
 },
 "nbformat": 4,
 "nbformat_minor": 2
}
